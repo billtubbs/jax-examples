{
 "cells": [
  {
   "cell_type": "markdown",
   "id": "9e40ad40",
   "metadata": {},
   "source": [
    "# Simulate a Discrete-Time Dynamic System"
   ]
  },
  {
   "cell_type": "code",
   "execution_count": 1,
   "id": "57d54d92",
   "metadata": {},
   "outputs": [
    {
     "name": "stdout",
     "output_type": "stream",
     "text": [
      "Python: 3.10.13\n",
      "Jax: 0.4.16\n"
     ]
    }
   ],
   "source": [
    "import numpy as np\n",
    "import pandas as pd\n",
    "import matplotlib.pyplot as plt\n",
    "import jax\n",
    "import jax.numpy as jnp\n",
    "\n",
    "from platform import python_version\n",
    "print(f\"Python: {python_version()}\")\n",
    "print(f\"Jax: {jax.__version__}\")"
   ]
  },
  {
   "cell_type": "code",
   "execution_count": 2,
   "id": "0695a70a",
   "metadata": {},
   "outputs": [],
   "source": [
    "def sys(yk, uk, parmas):\n",
    "    a1 = params['a1']\n",
    "    b0 = params['b0']\n",
    "    return a1 * yk + b0 * uk"
   ]
  },
  {
   "cell_type": "code",
   "execution_count": 3,
   "id": "6a3221f5",
   "metadata": {},
   "outputs": [
    {
     "name": "stderr",
     "output_type": "stream",
     "text": [
      "WARNING: All log messages before absl::InitializeLog() is called are written to STDERR\n",
      "I0000 00:00:1705808237.881246       1 tfrt_cpu_pjrt_client.cc:349] TfrtCpuClient created.\n"
     ]
    }
   ],
   "source": [
    "nT = 10\n",
    "Ts = 1\n",
    "t = Ts * jnp.arange(nT+1)\n",
    "U = np.zeros((nT+1, 1), dtype='float32')\n",
    "U[t >= 1, :] = 1.\n",
    "U = jnp.array(U)"
   ]
  },
  {
   "cell_type": "code",
   "execution_count": 4,
   "id": "11ee3779",
   "metadata": {},
   "outputs": [
    {
     "data": {
      "text/html": [
       "<div>\n",
       "<style scoped>\n",
       "    .dataframe tbody tr th:only-of-type {\n",
       "        vertical-align: middle;\n",
       "    }\n",
       "\n",
       "    .dataframe tbody tr th {\n",
       "        vertical-align: top;\n",
       "    }\n",
       "\n",
       "    .dataframe thead tr th {\n",
       "        text-align: left;\n",
       "    }\n",
       "\n",
       "    .dataframe thead tr:last-of-type th {\n",
       "        text-align: right;\n",
       "    }\n",
       "</style>\n",
       "<table border=\"1\" class=\"dataframe\">\n",
       "  <thead>\n",
       "    <tr>\n",
       "      <th></th>\n",
       "      <th>U</th>\n",
       "      <th>Y</th>\n",
       "    </tr>\n",
       "    <tr>\n",
       "      <th></th>\n",
       "      <th>0</th>\n",
       "      <th>0</th>\n",
       "    </tr>\n",
       "    <tr>\n",
       "      <th>t</th>\n",
       "      <th></th>\n",
       "      <th></th>\n",
       "    </tr>\n",
       "  </thead>\n",
       "  <tbody>\n",
       "    <tr>\n",
       "      <th>0</th>\n",
       "      <td>0.0</td>\n",
       "      <td>0.000</td>\n",
       "    </tr>\n",
       "    <tr>\n",
       "      <th>1</th>\n",
       "      <td>1.0</td>\n",
       "      <td>0.000</td>\n",
       "    </tr>\n",
       "    <tr>\n",
       "      <th>2</th>\n",
       "      <td>1.0</td>\n",
       "      <td>0.500</td>\n",
       "    </tr>\n",
       "    <tr>\n",
       "      <th>3</th>\n",
       "      <td>1.0</td>\n",
       "      <td>0.750</td>\n",
       "    </tr>\n",
       "    <tr>\n",
       "      <th>4</th>\n",
       "      <td>1.0</td>\n",
       "      <td>0.875</td>\n",
       "    </tr>\n",
       "  </tbody>\n",
       "</table>\n",
       "</div>"
      ],
      "text/plain": [
       "     U      Y\n",
       "     0      0\n",
       "t            \n",
       "0  0.0  0.000\n",
       "1  1.0  0.000\n",
       "2  1.0  0.500\n",
       "3  1.0  0.750\n",
       "4  1.0  0.875"
      ]
     },
     "execution_count": 4,
     "metadata": {},
     "output_type": "execute_result"
    }
   ],
   "source": [
    "y0 = jnp.zeros(1, dtype='float32')\n",
    "params = {\n",
    "    'a1': 0.5,\n",
    "    'b0': 0.5\n",
    "}\n",
    "Y = []\n",
    "yk = y0.copy()\n",
    "for k in range(nT+1):\n",
    "    Y.append(yk)\n",
    "    uk = U[k, :]\n",
    "    yk = sys(yk, uk, params)\n",
    "Y = jnp.array(Y)\n",
    "\n",
    "index = pd.Index(t, name='t')\n",
    "sim_result = pd.concat(\n",
    "    [pd.DataFrame(X, index=index) for X in [U, Y]],\n",
    "    axis=1,\n",
    "    keys=['U', 'Y']\n",
    ")\n",
    "sim_result.head()"
   ]
  },
  {
   "cell_type": "code",
   "execution_count": 5,
   "id": "f27a1a2c",
   "metadata": {},
   "outputs": [
    {
     "data": {
      "image/png": "[encoded data removed]",
      "text/plain": [
       "<Figure size 640x480 with 2 Axes>"
      ]
     },
     "metadata": {},
     "output_type": "display_data"
    }
   ],
   "source": [
    "fig, axes = plt.subplots(2, 1, sharex=True)\n",
    "\n",
    "ax = axes[0]\n",
    "ax.step(t, Y, where='post')\n",
    "ax.set_ylabel('$y(k)$')\n",
    "ax.set_title('Output')\n",
    "ax.grid()\n",
    "\n",
    "ax = axes[1]\n",
    "ax.step(t, U, where='post')\n",
    "ax.set_ylabel('$u(k)$')\n",
    "ax.set_xlabel('Time, $t$')\n",
    "ax.set_title('Input')\n",
    "ax.grid()\n",
    "\n",
    "plt.show()"
   ]
  },
  {
   "cell_type": "code",
   "execution_count": null,
   "id": "94e0f808",
   "metadata": {},
   "outputs": [],
   "source": []
  },
  {
   "cell_type": "code",
   "execution_count": null,
   "id": "5662a48b",
   "metadata": {},
   "outputs": [],
   "source": []
  },
  {
   "cell_type": "code",
   "execution_count": null,
   "id": "20d0c2f8",
   "metadata": {},
   "outputs": [],
   "source": []
  }
 ],
 "metadata": {
  "kernelspec": {
   "display_name": "Python (jax)",
   "language": "python",
   "name": "jax"
  },
  "language_info": {
   "codemirror_mode": {
    "name": "ipython",
    "version": 3
   },
   "file_extension": ".py",
   "mimetype": "text/x-python",
   "name": "python",
   "nbconvert_exporter": "python",
   "pygments_lexer": "ipython3",
   "version": "3.10.13"
  }
 },
 "nbformat": 4,
 "nbformat_minor": 5
}
