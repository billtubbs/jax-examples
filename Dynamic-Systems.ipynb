{
 "cells": [
  {
   "cell_type": "markdown",
   "id": "9e40ad40",
   "metadata": {},
   "source": [
    "# Simulate a Discrete-Time Dynamic System"
   ]
  },
  {
   "cell_type": "code",
   "execution_count": 1,
   "id": "57d54d92",
   "metadata": {},
   "outputs": [
    {
     "name": "stdout",
     "output_type": "stream",
     "text": [
      "Python: 3.11.7\n",
      "Jax: 0.4.23\n"
     ]
    }
   ],
   "source": [
    "import numpy as np\n",
    "import pandas as pd\n",
    "import matplotlib.pyplot as plt\n",
    "import jax\n",
    "import jax.numpy as jnp\n",
    "\n",
    "from platform import python_version\n",
    "print(f\"Python: {python_version()}\")\n",
    "print(f\"Jax: {jax.__version__}\")"
   ]
  },
  {
   "cell_type": "markdown",
   "id": "12cd4103",
   "metadata": {},
   "source": [
    "## Example 1. First order auto-regressive model - AR(1)"
   ]
  },
  {
   "cell_type": "code",
   "execution_count": 2,
   "id": "0695a70a",
   "metadata": {},
   "outputs": [],
   "source": [
    "def sys(yk, uk, params):\n",
    "    a1 = params['a1']\n",
    "    b0 = params['b0']\n",
    "    return a1 * yk + b0 * uk"
   ]
  },
  {
   "cell_type": "code",
   "execution_count": 3,
   "id": "6a3221f5",
   "metadata": {},
   "outputs": [],
   "source": [
    "nT = 10\n",
    "Ts = 1\n",
    "t = Ts * jnp.arange(nT+1)\n",
    "U = np.zeros((nT+1, 1), dtype='float32')\n",
    "U[t >= 1, :] = 1.\n",
    "U = jnp.array(U)"
   ]
  },
  {
   "cell_type": "code",
   "execution_count": 4,
   "id": "c71524c7",
   "metadata": {},
   "outputs": [],
   "source": [
    "y0 = jnp.zeros(1, dtype='float32')\n",
    "params = {\n",
    "    'a1': 0.5,\n",
    "    'b0': 0.5\n",
    "}"
   ]
  },
  {
   "cell_type": "code",
   "execution_count": 5,
   "id": "11ee3779",
   "metadata": {},
   "outputs": [
    {
     "data": {
      "text/html": [
       "<div>\n",
       "<style scoped>\n",
       "    .dataframe tbody tr th:only-of-type {\n",
       "        vertical-align: middle;\n",
       "    }\n",
       "\n",
       "    .dataframe tbody tr th {\n",
       "        vertical-align: top;\n",
       "    }\n",
       "\n",
       "    .dataframe thead tr th {\n",
       "        text-align: left;\n",
       "    }\n",
       "\n",
       "    .dataframe thead tr:last-of-type th {\n",
       "        text-align: right;\n",
       "    }\n",
       "</style>\n",
       "<table border=\"1\" class=\"dataframe\">\n",
       "  <thead>\n",
       "    <tr>\n",
       "      <th></th>\n",
       "      <th>U</th>\n",
       "      <th>Y</th>\n",
       "    </tr>\n",
       "    <tr>\n",
       "      <th></th>\n",
       "      <th>0</th>\n",
       "      <th>0</th>\n",
       "    </tr>\n",
       "    <tr>\n",
       "      <th>t</th>\n",
       "      <th></th>\n",
       "      <th></th>\n",
       "    </tr>\n",
       "  </thead>\n",
       "  <tbody>\n",
       "    <tr>\n",
       "      <th>0</th>\n",
       "      <td>0.0</td>\n",
       "      <td>0.000</td>\n",
       "    </tr>\n",
       "    <tr>\n",
       "      <th>1</th>\n",
       "      <td>1.0</td>\n",
       "      <td>0.000</td>\n",
       "    </tr>\n",
       "    <tr>\n",
       "      <th>2</th>\n",
       "      <td>1.0</td>\n",
       "      <td>0.500</td>\n",
       "    </tr>\n",
       "    <tr>\n",
       "      <th>3</th>\n",
       "      <td>1.0</td>\n",
       "      <td>0.750</td>\n",
       "    </tr>\n",
       "    <tr>\n",
       "      <th>4</th>\n",
       "      <td>1.0</td>\n",
       "      <td>0.875</td>\n",
       "    </tr>\n",
       "  </tbody>\n",
       "</table>\n",
       "</div>"
      ],
      "text/plain": [
       "     U      Y\n",
       "     0      0\n",
       "t            \n",
       "0  0.0  0.000\n",
       "1  1.0  0.000\n",
       "2  1.0  0.500\n",
       "3  1.0  0.750\n",
       "4  1.0  0.875"
      ]
     },
     "execution_count": 5,
     "metadata": {},
     "output_type": "execute_result"
    }
   ],
   "source": [
    "# Simulate with Python for-loop\n",
    "Y = []\n",
    "yk = y0.copy()\n",
    "for k in range(nT+1):\n",
    "    Y.append(yk)\n",
    "    uk = U[k, :]\n",
    "    yk = sys(yk, uk, params)\n",
    "Y = jnp.array(Y)\n",
    "\n",
    "index = pd.Index(t, name='t')\n",
    "sim_result = pd.concat(\n",
    "    [pd.DataFrame(X, index=index) for X in [U, Y]],\n",
    "    axis=1,\n",
    "    keys=['U', 'Y']\n",
    ")\n",
    "sim_result.head()"
   ]
  },
  {
   "cell_type": "code",
   "execution_count": 6,
   "id": "935c1e56",
   "metadata": {},
   "outputs": [
    {
     "data": {
      "image/png": "[encoded data removed]",
      "text/plain": [
       "<Figure size 640x480 with 2 Axes>"
      ]
     },
     "metadata": {},
     "output_type": "display_data"
    }
   ],
   "source": [
    "fig, axes = plt.subplots(2, 1, sharex=True)\n",
    "\n",
    "ax = axes[0]\n",
    "ax.step(t, Y, where='post')\n",
    "ax.set_ylabel('$y(k)$')\n",
    "ax.set_title('Output')\n",
    "ax.grid()\n",
    "\n",
    "ax = axes[1]\n",
    "ax.step(t, U, where='post')\n",
    "ax.set_ylabel('$u(k)$')\n",
    "ax.set_xlabel('Time, $t$')\n",
    "ax.set_title('Input')\n",
    "ax.grid()\n",
    "\n",
    "plt.show()"
   ]
  },
  {
   "cell_type": "code",
   "execution_count": 7,
   "id": "e2820c68",
   "metadata": {},
   "outputs": [
    {
     "data": {
      "text/html": [
       "<div>\n",
       "<style scoped>\n",
       "    .dataframe tbody tr th:only-of-type {\n",
       "        vertical-align: middle;\n",
       "    }\n",
       "\n",
       "    .dataframe tbody tr th {\n",
       "        vertical-align: top;\n",
       "    }\n",
       "\n",
       "    .dataframe thead tr th {\n",
       "        text-align: left;\n",
       "    }\n",
       "\n",
       "    .dataframe thead tr:last-of-type th {\n",
       "        text-align: right;\n",
       "    }\n",
       "</style>\n",
       "<table border=\"1\" class=\"dataframe\">\n",
       "  <thead>\n",
       "    <tr>\n",
       "      <th></th>\n",
       "      <th>U</th>\n",
       "      <th>Y</th>\n",
       "    </tr>\n",
       "    <tr>\n",
       "      <th></th>\n",
       "      <th>0</th>\n",
       "      <th>0</th>\n",
       "    </tr>\n",
       "    <tr>\n",
       "      <th>t</th>\n",
       "      <th></th>\n",
       "      <th></th>\n",
       "    </tr>\n",
       "  </thead>\n",
       "  <tbody>\n",
       "    <tr>\n",
       "      <th>0</th>\n",
       "      <td>0.0</td>\n",
       "      <td>0.000</td>\n",
       "    </tr>\n",
       "    <tr>\n",
       "      <th>1</th>\n",
       "      <td>1.0</td>\n",
       "      <td>0.000</td>\n",
       "    </tr>\n",
       "    <tr>\n",
       "      <th>2</th>\n",
       "      <td>1.0</td>\n",
       "      <td>0.500</td>\n",
       "    </tr>\n",
       "    <tr>\n",
       "      <th>3</th>\n",
       "      <td>1.0</td>\n",
       "      <td>0.750</td>\n",
       "    </tr>\n",
       "    <tr>\n",
       "      <th>4</th>\n",
       "      <td>1.0</td>\n",
       "      <td>0.875</td>\n",
       "    </tr>\n",
       "  </tbody>\n",
       "</table>\n",
       "</div>"
      ],
      "text/plain": [
       "     U      Y\n",
       "     0      0\n",
       "t            \n",
       "0  0.0  0.000\n",
       "1  1.0  0.000\n",
       "2  1.0  0.500\n",
       "3  1.0  0.750\n",
       "4  1.0  0.875"
      ]
     },
     "execution_count": 7,
     "metadata": {},
     "output_type": "execute_result"
    }
   ],
   "source": [
    "# Simulate using jax.scan\n",
    "update = lambda yk, uk: (sys(yk, uk, params), yk)\n",
    "_, Y = jax.lax.scan(update, y0, U)\n",
    "\n",
    "sim_result_jax = pd.concat(\n",
    "    [pd.DataFrame(X, index=index) for X in [U, Y]],\n",
    "    axis=1,\n",
    "    keys=['U', 'Y']\n",
    ")\n",
    "sim_result_jax.head()"
   ]
  },
  {
   "cell_type": "code",
   "execution_count": 8,
   "id": "f27a1a2c",
   "metadata": {},
   "outputs": [
    {
     "data": {
      "image/png": "[encoded data removed]",
      "text/plain": [
       "<Figure size 640x480 with 2 Axes>"
      ]
     },
     "metadata": {},
     "output_type": "display_data"
    }
   ],
   "source": [
    "fig, axes = plt.subplots(2, 1, sharex=True)\n",
    "\n",
    "ax = axes[0]\n",
    "ax.step(t, Y, where='post')\n",
    "ax.set_ylabel('$y(k)$')\n",
    "ax.set_title('Output')\n",
    "ax.grid()\n",
    "\n",
    "ax = axes[1]\n",
    "ax.step(t, U, where='post')\n",
    "ax.set_ylabel('$u(k)$')\n",
    "ax.set_xlabel('Time, $t$')\n",
    "ax.set_title('Input')\n",
    "ax.grid()\n",
    "\n",
    "plt.show()"
   ]
  },
  {
   "cell_type": "markdown",
   "id": "94e0f808",
   "metadata": {},
   "source": [
    "## Example 2. State-Space Model"
   ]
  },
  {
   "cell_type": "code",
   "execution_count": 9,
   "id": "5662a48b",
   "metadata": {},
   "outputs": [],
   "source": [
    "# Linear state-space model\n",
    "A = jnp.array([\n",
    "       [ -6. ,  -0. ,   0. ,  -5. ],\n",
    "       [ -0. ,  -6. ,   0.5,  -0. ],\n",
    "       [  0. , -10. ,   0. ,  -0. ],\n",
    "       [  1. ,   0. ,   0. ,  -0. ]\n",
    "])\n",
    "B = jnp.array([\n",
    "       [10.,  0.],\n",
    "       [ 0.,  1.],\n",
    "       [ 0.,  0.],\n",
    "       [ 0.,  0.]\n",
    "])\n",
    "C = jnp.array([\n",
    "       [-0. , -0. , -0.5,  0.5],\n",
    "       [ 1. , -0. , -1. ,  0.5]\n",
    "])\n",
    "\n",
    "def f(x, u):\n",
    "    return A.dot(x) + B.dot(u)\n",
    "\n",
    "def g(x, u):\n",
    "    return C.dot(x)\n",
    "\n",
    "def update(x, u):\n",
    "    x = f(x, u)\n",
    "    y = g(x, u)\n",
    "    return x, y\n",
    "\n",
    "x0 = jnp.zeros(4)\n",
    "\n",
    "# Inputs\n",
    "U = jnp.zeros((10, 2)).at[1:].set([1, 0]).at[5:].set([1, -1])\n",
    "\n",
    "# Simulate\n",
    "xN, Y = jax.lax.scan(update, x0, U)"
   ]
  },
  {
   "cell_type": "code",
   "execution_count": 10,
   "id": "20d0c2f8",
   "metadata": {},
   "outputs": [
    {
     "data": {
      "image/png": "[encoded data removed]",
      "text/plain": [
       "<Figure size 640x480 with 2 Axes>"
      ]
     },
     "metadata": {},
     "output_type": "display_data"
    }
   ],
   "source": [
    "fig, axes = plt.subplots(2, 1, sharex=True)\n",
    "\n",
    "t = np.arange(10).reshape(-1, 1)\n",
    "\n",
    "ax = axes[0]\n",
    "ax.step(t, Y, where='post', label=['y1', 'y2'])\n",
    "ax.set_ylabel('$y(k)$')\n",
    "ax.set_title('Outputs')\n",
    "ax.grid()\n",
    "ax.legend()\n",
    "\n",
    "ax = axes[1]\n",
    "ax.step(t, U, where='post', label=['u1', 'u2'])\n",
    "ax.set_ylabel('$u(k)$')\n",
    "ax.set_xlabel('Time, $t$')\n",
    "ax.set_title('Inputs')\n",
    "ax.grid()\n",
    "ax.legend()\n",
    "\n",
    "plt.show()"
   ]
  },
  {
   "cell_type": "code",
   "execution_count": null,
   "id": "e9b8d46e",
   "metadata": {},
   "outputs": [],
   "source": []
  },
  {
   "cell_type": "code",
   "execution_count": null,
   "id": "6ca1021a",
   "metadata": {},
   "outputs": [],
   "source": []
  },
  {
   "cell_type": "code",
   "execution_count": null,
   "id": "19ca15f0",
   "metadata": {},
   "outputs": [],
   "source": []
  }
 ],
 "metadata": {
  "kernelspec": {
   "display_name": "jax",
   "language": "python",
   "name": "python3"
  },
  "language_info": {
   "codemirror_mode": {
    "name": "ipython",
    "version": 3
   },
   "file_extension": ".py",
   "mimetype": "text/x-python",
   "name": "python",
   "nbconvert_exporter": "python",
   "pygments_lexer": "ipython3",
   "version": "3.11.7"
  }
 },
 "nbformat": 4,
 "nbformat_minor": 5
}
