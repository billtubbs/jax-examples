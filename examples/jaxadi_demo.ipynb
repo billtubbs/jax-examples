{
  "cells": [
    {
      "cell_type": "markdown",
      "metadata": {
        "id": "1lbr8ps99CvG"
      },
      "source": [
        "\n",
        "<p align=\"center\">\n",
        "  <img src=\"https://github.com/based-robotics/jaxadi/blob/master/_assets/_logo.png?raw=true\" alt=\"JAXADI Logo\" width=\"500\"/>\n",
        "</p>\n",
        "\n",
        "Welcome to [JaxADi](https://github.com/based-robotics/jaxadi), a Python library designed to seamlessly bridge the gap between CasADi and JAX-compatible functions. By harnessing the power of both CasADi and JAX, JaxADi opens up a world of possibilities for creating highly efficient, batchable code that can be executed effortlessly across CPUs, GPUs, and TPUs.\n",
        "\n",
        "JaxADi shines in various scenarios, including:\n",
        "\n",
        "- Complex robotics simulations\n",
        "- Challenging optimal control problems\n",
        "- Machine learning models with intricate dynamics\n",
        "\n",
        "Let's dive in and explore the capabilities of JaxADi!"
      ]
    },
    {
      "cell_type": "markdown",
      "metadata": {
        "id": "RqFh22rA-aNn"
      },
      "source": [
        "# **Getting Started with JaxADi**\n",
        "\n",
        "\n"
      ]
    },
    {
      "cell_type": "markdown",
      "metadata": {
        "id": "ZiPM5SudoAAz"
      },
      "source": [
        "## **Installation**\n",
        "\n",
        "Getting JaxADi up and running is a breeze. Simply use pip to install the [package]((https://pypi.org/project/jaxadi/)):\n"
      ]
    },
    {
      "cell_type": "code",
      "execution_count": 1,
      "metadata": {
        "colab": {
          "base_uri": "https://localhost:8080/"
        },
        "id": "KDixGI1Nkp-F",
        "outputId": "b0ea69b7-1370-4f27-c415-a7e1b965f3aa"
      },
      "outputs": [
        {
          "output_type": "stream",
          "name": "stdout",
          "text": [
            "Requirement already satisfied: jaxadi in /usr/local/lib/python3.10/dist-packages (0.3.0)\n",
            "Requirement already satisfied: casadi in /usr/local/lib/python3.10/dist-packages (from jaxadi) (3.6.7)\n",
            "Requirement already satisfied: jax in /usr/local/lib/python3.10/dist-packages (from jaxadi) (0.4.33)\n",
            "Requirement already satisfied: numpy in /usr/local/lib/python3.10/dist-packages (from casadi->jaxadi) (1.26.4)\n",
            "Requirement already satisfied: jaxlib<=0.4.33,>=0.4.33 in /usr/local/lib/python3.10/dist-packages (from jax->jaxadi) (0.4.33)\n",
            "Requirement already satisfied: ml-dtypes>=0.2.0 in /usr/local/lib/python3.10/dist-packages (from jax->jaxadi) (0.4.1)\n",
            "Requirement already satisfied: opt-einsum in /usr/local/lib/python3.10/dist-packages (from jax->jaxadi) (3.4.0)\n",
            "Requirement already satisfied: scipy>=1.10 in /usr/local/lib/python3.10/dist-packages (from jax->jaxadi) (1.13.1)\n"
          ]
        }
      ],
      "source": [
        "!pip install jaxadi"
      ]
    },
    {
      "cell_type": "markdown",
      "metadata": {
        "id": "Vo7v8I5j-kPb"
      },
      "source": [
        "## **Basic Usage**\n",
        "\n",
        "Define a CasADi function"
      ]
    },
    {
      "cell_type": "code",
      "execution_count": 2,
      "metadata": {
        "colab": {
          "base_uri": "https://localhost:8080/"
        },
        "id": "wCypWJi-9CHs",
        "outputId": "16bbd77e-9fdc-4cd7-8369-85d749cc676b"
      },
      "outputs": [
        {
          "output_type": "execute_result",
          "data": {
            "text/plain": [
              "Function(complex_nonlinear_func:(i0[3x2],i1[2x2])->(o0[3x2]) SXFunction)"
            ]
          },
          "metadata": {},
          "execution_count": 2
        }
      ],
      "source": [
        "import casadi as cs\n",
        "\n",
        "# Define input variables\n",
        "x = cs.SX.sym(\"x\", 3, 2)\n",
        "y = cs.SX.sym(\"y\", 2, 2)\n",
        "# Define a nonlinear function\n",
        "z = x @ y  # Matrix multiplication\n",
        "z_squared = z * z  # Element-wise squaring\n",
        "z_sin = cs.sin(z)  # Element-wise sine\n",
        "result = z_squared + z_sin  # Element-wise addition\n",
        "# Create the CasADi function\n",
        "casadi_fn = cs.Function(\"complex_nonlinear_func\", [x, y], [result])\n",
        "casadi_fn"
      ]
    },
    {
      "cell_type": "markdown",
      "source": [
        "Equivalent Numpy function"
      ],
      "metadata": {
        "id": "bHL2i3EkwrNy"
      }
    },
    {
      "cell_type": "code",
      "source": [
        "import numpy as np\n",
        "\n",
        "def numpy_fn(x, y):\n",
        "    z = x @ y  # Matrix multiplication\n",
        "    z_squared = z * z  # Element-wise squaring\n",
        "    z_sin = np.sin(z)  # Element-wise sine\n",
        "    return z_squared + z_sin  # Element-wise addition\n",
        "\n",
        "numpy_fn"
      ],
      "metadata": {
        "colab": {
          "base_uri": "https://localhost:8080/",
          "height": 104
        },
        "id": "ytJd9ZDlv0LT",
        "outputId": "f8c82840-0b3e-45a2-979b-30bf20d88365"
      },
      "execution_count": 3,
      "outputs": [
        {
          "output_type": "execute_result",
          "data": {
            "text/plain": [
              "<function __main__.numpy_fn(x, y)>"
            ],
            "text/html": [
              "<div style=\"max-width:800px; border: 1px solid var(--colab-border-color);\"><style>\n",
              "      pre.function-repr-contents {\n",
              "        overflow-x: auto;\n",
              "        padding: 8px 12px;\n",
              "        max-height: 500px;\n",
              "      }\n",
              "\n",
              "      pre.function-repr-contents.function-repr-contents-collapsed {\n",
              "        cursor: pointer;\n",
              "        max-height: 100px;\n",
              "      }\n",
              "    </style>\n",
              "    <pre style=\"white-space: initial; background:\n",
              "         var(--colab-secondary-surface-color); padding: 8px 12px;\n",
              "         border-bottom: 1px solid var(--colab-border-color);\"><b>numpy_fn</b><br/>def numpy_fn(x, y)</pre><pre class=\"function-repr-contents function-repr-contents-collapsed\" style=\"\"><a class=\"filepath\" style=\"display:none\" href=\"#\">/content/&lt;ipython-input-3-bb4cd19914cc&gt;</a>&lt;no docstring&gt;</pre></div>"
            ]
          },
          "metadata": {},
          "execution_count": 3
        }
      ]
    },
    {
      "cell_type": "markdown",
      "source": [
        "Make equivalent Jax function"
      ],
      "metadata": {
        "id": "cUtq9ILVux4O"
      }
    },
    {
      "cell_type": "code",
      "source": [
        "from jax import jit\n",
        "from jax import numpy as jnp\n",
        "\n",
        "@jit\n",
        "def jax_fn(x, y):\n",
        "    z = x @ y  # Matrix multiplication\n",
        "    z_squared = z * z  # Element-wise squaring\n",
        "    z_sin = jnp.sin(z)  # Element-wise sine\n",
        "    return z_squared + z_sin  # Element-wise addition\n",
        "\n",
        "jax_fn"
      ],
      "metadata": {
        "colab": {
          "base_uri": "https://localhost:8080/"
        },
        "id": "KUXqY-lMucB_",
        "outputId": "00b63472-e193-402f-8ab1-5a269c97e0f0"
      },
      "execution_count": 4,
      "outputs": [
        {
          "output_type": "execute_result",
          "data": {
            "text/plain": [
              "<PjitFunction of <function jax_fn at 0x7f1a182eb370>>"
            ]
          },
          "metadata": {},
          "execution_count": 4
        }
      ]
    },
    {
      "cell_type": "markdown",
      "metadata": {
        "id": "3Zi8ejdw_OPu"
      },
      "source": [
        "Get JAX-compatible function string representation:"
      ]
    },
    {
      "cell_type": "code",
      "execution_count": 5,
      "metadata": {
        "colab": {
          "base_uri": "https://localhost:8080/",
          "height": 159
        },
        "id": "CKalPhfF9B-E",
        "outputId": "2bfd6609-a7f1-4811-cbd2-3c965f381845"
      },
      "outputs": [
        {
          "output_type": "execute_result",
          "data": {
            "text/plain": [
              "'def evaluate_complex_nonlinear_func(*args):\\n    inputs = [jnp.expand_dims(jnp.array(arg), axis=-1) for arg in args]\\n    o = [jnp.zeros(out) for out in [(3, 2)]]\\n    o[0] = o[0].at[([0, 1, 2, 0, 1, 2], [0, 0, 0, 1, 1, 1])].set([((((inputs[0][0, 0]*inputs[1][0, 0])+(inputs[0][0, 1]*inputs[1][1, 0])) * ((inputs[0][0, 0]*inputs[1][0, 0])+(inputs[0][0, 1]*inputs[1][1, 0])))+jnp.sin(((inputs[0][0, 0]*inputs[1][0, 0])+(inputs[0][0, 1]*inputs[1][1, 0]))))[0], ((((inputs[0][1, 0]*inputs[1][0, 0])+(inputs[0][1, 1]*inputs[1][1, 0])) * ((inputs[0][1, 0]*inputs[1][0, 0])+(inputs[0][1, 1]*inputs[1][1, 0])))+jnp.sin(((inputs[0][1, 0]*inputs[1][0, 0])+(inputs[0][1, 1]*inputs[1][1, 0]))))[0], ((((inputs[0][2, 0]*inputs[1][0, 0])+(inputs[0][2, 1]*inputs[1][1, 0])) * ((inputs[0][2, 0]*inputs[1][0, 0])+(inputs[0][2, 1]*inputs[1][1, 0])))+jnp.sin(((inputs[0][2, 0]*inputs[1][0, 0])+(inputs[0][2, 1]*inputs[1][1, 0]))))[0], ((((inputs[0][0, 0]*inputs[1][0, 1])+(inputs[0][0, 1]*inputs[1][1, 1])) * ((inputs[0][0, 0]*inputs[1][0, 1])+(inputs[0][0, 1]*inputs[1][1, 1])))+jnp.sin(((inputs[0][0, 0]*inputs[1][0, 1])+(inputs[0][0, 1]*inputs[1][1, 1]))))[0], ((((inputs[0][1, 0]*inputs[1][0, 1])+(inputs[0][1, 1]*inputs[1][1, 1])) * ((inputs[0][1, 0]*inputs[1][0, 1])+(inputs[0][1, 1]*inputs[1][1, 1])))+jnp.sin(((inputs[0][1, 0]*inputs[1][0, 1])+(inputs[0][1, 1]*inputs[1][1, 1]))))[0], ((((inputs[0][2, 0]*inputs[1][0, 1])+(inputs[0][2, 1]*inputs[1][1, 1])) * ((inputs[0][2, 0]*inputs[1][0, 1])+(inputs[0][2, 1]*inputs[1][1, 1])))+jnp.sin(((inputs[0][2, 0]*inputs[1][0, 1])+(inputs[0][2, 1]*inputs[1][1, 1]))))[0]])\\n    return o\\n'"
            ],
            "application/vnd.google.colaboratory.intrinsic+json": {
              "type": "string"
            }
          },
          "metadata": {},
          "execution_count": 5
        }
      ],
      "source": [
        "from jaxadi import translate\n",
        "\n",
        "# Get JAX-compatible function string representation\n",
        "jax_fn_string = translate(casadi_fn)\n",
        "jax_fn_string"
      ]
    },
    {
      "cell_type": "markdown",
      "metadata": {
        "id": "67ZF1_XN_5Vi"
      },
      "source": [
        "\n",
        "Define JAX function from CasADi one"
      ]
    },
    {
      "cell_type": "code",
      "execution_count": 6,
      "metadata": {
        "colab": {
          "base_uri": "https://localhost:8080/"
        },
        "id": "My7Eejgc_tIc",
        "outputId": "6039c65f-9c0f-4c8d-e204-ead7fffb1c16"
      },
      "outputs": [
        {
          "output_type": "execute_result",
          "data": {
            "text/plain": [
              "<function jaxadi._declare.evaluate_complex_nonlinear_func(*args)>"
            ]
          },
          "metadata": {},
          "execution_count": 6
        }
      ],
      "source": [
        "from jaxadi import convert\n",
        "\n",
        "# Define JAX function from CasADi one\n",
        "jaxadi_fn = convert(casadi_fn, compile=True)\n",
        "jaxadi_fn"
      ]
    },
    {
      "cell_type": "code",
      "source": [
        "# Random input matrices\n",
        "input_x = np.random.rand(3, 2)\n",
        "input_y = np.random.rand(2, 2)\n",
        "input_x_jax = jnp.array(input_x)\n",
        "input_y_jax = jnp.array(input_y)\n",
        "input_x_cas = cs.DM(input_x)\n",
        "input_y_cas = cs.DM(input_y)"
      ],
      "metadata": {
        "id": "s3WVIGNPvPSX"
      },
      "execution_count": 7,
      "outputs": []
    },
    {
      "cell_type": "code",
      "execution_count": 8,
      "metadata": {
        "id": "GwqWQoRj_qVo"
      },
      "outputs": [],
      "source": [
        "# Call functions\n",
        "output_jax = jax_fn(input_x_jax, input_y_jax)\n",
        "output_jaxadi = jaxadi_fn(input_x_jax, input_y_jax)\n",
        "output_casadi = casadi_fn(input_x_cas, input_y_cas)\n",
        "output_numpy = numpy_fn(input_x, input_y)\n",
        "\n",
        "# Compare results\n",
        "assert np.allclose(output_jax, output_casadi)\n",
        "assert np.allclose(output_jaxadi, output_casadi)\n",
        "assert np.allclose(output_numpy, output_casadi)"
      ]
    },
    {
      "cell_type": "code",
      "source": [
        "%time\n",
        "output_jax = jax_fn(input_x_jax, input_y_jax)"
      ],
      "metadata": {
        "colab": {
          "base_uri": "https://localhost:8080/"
        },
        "id": "CJUePHCivo0j",
        "outputId": "f51fda7e-8772-4f32-b6f3-69948f23ee05"
      },
      "execution_count": 9,
      "outputs": [
        {
          "output_type": "stream",
          "name": "stdout",
          "text": [
            "CPU times: user 3 µs, sys: 0 ns, total: 3 µs\n",
            "Wall time: 8.11 µs\n"
          ]
        }
      ]
    },
    {
      "cell_type": "code",
      "source": [
        "%%time\n",
        "output_jaxadi = jaxadi_fn(input_x_jax, input_y_jax)"
      ],
      "metadata": {
        "colab": {
          "base_uri": "https://localhost:8080/"
        },
        "id": "LBZJbpKhtE0O",
        "outputId": "777a5cdb-e2d5-45a6-fd7c-24a6f1dd3d4e"
      },
      "execution_count": 10,
      "outputs": [
        {
          "output_type": "stream",
          "name": "stdout",
          "text": [
            "CPU times: user 36 ms, sys: 0 ns, total: 36 ms\n",
            "Wall time: 46.8 ms\n"
          ]
        }
      ]
    },
    {
      "cell_type": "code",
      "source": [
        "%%time\n",
        "output_numpy = numpy_fn(input_x, input_y)"
      ],
      "metadata": {
        "colab": {
          "base_uri": "https://localhost:8080/"
        },
        "id": "IeXmB3Ngsdbc",
        "outputId": "d7edd5f9-3936-4319-b63a-f70c0a52fb03"
      },
      "execution_count": 11,
      "outputs": [
        {
          "output_type": "stream",
          "name": "stdout",
          "text": [
            "CPU times: user 77 µs, sys: 0 ns, total: 77 µs\n",
            "Wall time: 81.8 µs\n"
          ]
        }
      ]
    },
    {
      "cell_type": "code",
      "source": [
        "%%time\n",
        "output_cas = casadi_fn(input_x_cas, input_y_cas)"
      ],
      "metadata": {
        "colab": {
          "base_uri": "https://localhost:8080/"
        },
        "id": "rjpMMAtEtnj-",
        "outputId": "a7b75ec2-5aeb-46b2-9646-2f3ebb97114d"
      },
      "execution_count": 12,
      "outputs": [
        {
          "output_type": "stream",
          "name": "stdout",
          "text": [
            "CPU times: user 94 µs, sys: 0 ns, total: 94 µs\n",
            "Wall time: 98.5 µs\n"
          ]
        }
      ]
    },
    {
      "cell_type": "code",
      "source": [],
      "metadata": {
        "id": "EwHGTA6AxDmE"
      },
      "execution_count": 12,
      "outputs": []
    },
    {
      "cell_type": "code",
      "source": [],
      "metadata": {
        "id": "UiOyTaYFxDsu"
      },
      "execution_count": 12,
      "outputs": []
    },
    {
      "cell_type": "code",
      "source": [],
      "metadata": {
        "id": "vAmS7PpPxEI0"
      },
      "execution_count": 12,
      "outputs": []
    }
  ],
  "metadata": {
    "colab": {
      "provenance": [],
      "toc_visible": true
    },
    "kernelspec": {
      "display_name": "Python 3",
      "name": "python3"
    },
    "language_info": {
      "codemirror_mode": {
        "name": "ipython",
        "version": 3
      },
      "file_extension": ".py",
      "mimetype": "text/x-python",
      "name": "python",
      "nbconvert_exporter": "python",
      "pygments_lexer": "ipython3",
      "version": "3.10.14"
    }
  },
  "nbformat": 4,
  "nbformat_minor": 0
}